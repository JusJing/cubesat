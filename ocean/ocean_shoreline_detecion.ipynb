{
 "cells": [
  {
   "cell_type": "code",
   "execution_count": 1,
   "metadata": {
    "ExecuteTime": {
     "end_time": "2024-01-21T07:36:52.120993Z",
     "start_time": "2024-01-21T07:36:52.114468Z"
    },
    "collapsed": false,
    "jupyter": {
     "outputs_hidden": false
    }
   },
   "outputs": [],
   "source": [
    "import os\n",
    "import joblib\n",
    "import numpy as np\n",
    "import cv2\n",
    "from sklearn.cluster import KMeans\n",
    "from collections import Counter\n",
    "import matplotlib.pyplot as plt"
   ]
  },
  {
   "cell_type": "code",
   "execution_count": 2,
   "metadata": {
    "ExecuteTime": {
     "end_time": "2024-01-21T07:36:52.127901Z",
     "start_time": "2024-01-21T07:36:52.121428Z"
    },
    "collapsed": false,
    "jupyter": {
     "outputs_hidden": false
    }
   },
   "outputs": [],
   "source": [
    "def predict_by_features(model, features):\n",
    "    # Convert input data to a numpy array\n",
    "    input_data = np.array(features).reshape(1, -1)\n",
    "    # Make a prediction using the pre-trained model\n",
    "    prediction = model.predict(input_data)\n",
    "    # Return the predicted output\n",
    "    return prediction[0]"
   ]
  },
  {
   "cell_type": "code",
   "execution_count": 3,
   "metadata": {
    "ExecuteTime": {
     "end_time": "2024-01-21T07:36:52.139737Z",
     "start_time": "2024-01-21T07:36:52.128691Z"
    },
    "collapsed": false,
    "jupyter": {
     "outputs_hidden": false
    }
   },
   "outputs": [],
   "source": [
    "def split_image_and_predict(model, input_image_path, block_size):\n",
    "    # Open the input image\n",
    "    img=cv2.imread(input_image_path, cv2.IMREAD_UNCHANGED)\n",
    "\n",
    "    # Get the size of the original image\n",
    "    height = img.shape[0]\n",
    "    width = img.shape[1]\n",
    "\n",
    "    # Calculate the number of rows and columns for the 16x16 grid\n",
    "    rows = height // block_size\n",
    "    cols = width // block_size\n",
    "\n",
    "    # Specify the special color (e.g., red)\n",
    "    special_color = [0, 0, 1]  # Red: [R, G, B]\n",
    "    mask = np.zeros(img.shape[:2], dtype=\"uint8\")\n",
    "    # image_2d_array = np.eye(rows, cols)\n",
    "    # Loop through each grid cell\n",
    "    for row in range(rows):\n",
    "        for col in range(cols):\n",
    "            # Calculate the coordinates for cropping each cell\n",
    "            left = col * block_size\n",
    "            top = row * block_size\n",
    "            right = left + block_size\n",
    "            bottom = top + block_size\n",
    "\n",
    "            # Crop the cell from the original image\n",
    "            cell_image = img[top:bottom, left:right]\n",
    "            # cell_image = original_image.crop((left, top, right, bottom))\n",
    "\n",
    "            features = extract_features(cell_image)\n",
    "            result = predict_by_features(model, features)\n",
    "            if result == 1:\n",
    "                cv2.rectangle(mask, (left, top), (right, bottom), 255, -1)\n",
    "\n",
    "    return mask, img"
   ]
  },
  {
   "cell_type": "code",
   "execution_count": 4,
   "metadata": {
    "ExecuteTime": {
     "end_time": "2024-01-21T07:36:52.147963Z",
     "start_time": "2024-01-21T07:36:52.140081Z"
    },
    "collapsed": false,
    "jupyter": {
     "outputs_hidden": false
    }
   },
   "outputs": [],
   "source": [
    "def extract_features(image):\n",
    "    number_of_colors = 10\n",
    "    clf = KMeans(n_clusters = number_of_colors)\n",
    "    modified_image = image.reshape(image.shape[0]*image.shape[1], 3)\n",
    "    labels = clf.fit_predict(modified_image)\n",
    "\n",
    "    counts = Counter(labels)\n",
    "    center_colors = clf.cluster_centers_\n",
    "\n",
    "    # We get ordered colors by iterating through the keys\n",
    "    ordered_colors = [center_colors[i] for i in counts.keys()]\n",
    "    rgb_colors = [ordered_colors[i] for i in range(0, len(ordered_colors))]\n",
    "    l = len(rgb_colors)\n",
    "    if l < 10:\n",
    "        for i in range(l, 10):\n",
    "            rgb_colors.append(rgb_colors[0])\n",
    "    return rgb_colors"
   ]
  },
  {
   "cell_type": "code",
   "execution_count": 5,
   "metadata": {
    "ExecuteTime": {
     "end_time": "2024-01-21T07:36:52.494464Z",
     "start_time": "2024-01-21T07:36:52.148185Z"
    },
    "collapsed": false,
    "jupyter": {
     "outputs_hidden": false
    }
   },
   "outputs": [
    {
     "name": "stderr",
     "output_type": "stream",
     "text": [
      "/usr/local/lib/python3.9/site-packages/sklearn/base.py:1351: ConvergenceWarning: Number of distinct clusters (6) found smaller than n_clusters (10). Possibly due to duplicate points in X.\n",
      "  return fit_method(estimator, *args, **kwargs)\n",
      "/usr/local/lib/python3.9/site-packages/sklearn/base.py:1351: ConvergenceWarning: Number of distinct clusters (8) found smaller than n_clusters (10). Possibly due to duplicate points in X.\n",
      "  return fit_method(estimator, *args, **kwargs)\n",
      "/usr/local/lib/python3.9/site-packages/sklearn/base.py:1351: ConvergenceWarning: Number of distinct clusters (7) found smaller than n_clusters (10). Possibly due to duplicate points in X.\n",
      "  return fit_method(estimator, *args, **kwargs)\n",
      "/usr/local/lib/python3.9/site-packages/sklearn/base.py:1351: ConvergenceWarning: Number of distinct clusters (6) found smaller than n_clusters (10). Possibly due to duplicate points in X.\n",
      "  return fit_method(estimator, *args, **kwargs)\n",
      "/usr/local/lib/python3.9/site-packages/sklearn/base.py:1351: ConvergenceWarning: Number of distinct clusters (6) found smaller than n_clusters (10). Possibly due to duplicate points in X.\n",
      "  return fit_method(estimator, *args, **kwargs)\n",
      "/usr/local/lib/python3.9/site-packages/sklearn/base.py:1351: ConvergenceWarning: Number of distinct clusters (1) found smaller than n_clusters (10). Possibly due to duplicate points in X.\n",
      "  return fit_method(estimator, *args, **kwargs)\n",
      "/usr/local/lib/python3.9/site-packages/sklearn/base.py:1351: ConvergenceWarning: Number of distinct clusters (2) found smaller than n_clusters (10). Possibly due to duplicate points in X.\n",
      "  return fit_method(estimator, *args, **kwargs)\n",
      "/usr/local/lib/python3.9/site-packages/sklearn/base.py:1351: ConvergenceWarning: Number of distinct clusters (3) found smaller than n_clusters (10). Possibly due to duplicate points in X.\n",
      "  return fit_method(estimator, *args, **kwargs)\n",
      "/usr/local/lib/python3.9/site-packages/sklearn/base.py:1351: ConvergenceWarning: Number of distinct clusters (5) found smaller than n_clusters (10). Possibly due to duplicate points in X.\n",
      "  return fit_method(estimator, *args, **kwargs)\n",
      "/usr/local/lib/python3.9/site-packages/sklearn/base.py:1351: ConvergenceWarning: Number of distinct clusters (4) found smaller than n_clusters (10). Possibly due to duplicate points in X.\n",
      "  return fit_method(estimator, *args, **kwargs)\n",
      "/usr/local/lib/python3.9/site-packages/sklearn/base.py:1351: ConvergenceWarning: Number of distinct clusters (6) found smaller than n_clusters (10). Possibly due to duplicate points in X.\n",
      "  return fit_method(estimator, *args, **kwargs)\n",
      "/usr/local/lib/python3.9/site-packages/sklearn/base.py:1351: ConvergenceWarning: Number of distinct clusters (6) found smaller than n_clusters (10). Possibly due to duplicate points in X.\n",
      "  return fit_method(estimator, *args, **kwargs)\n",
      "/usr/local/lib/python3.9/site-packages/sklearn/base.py:1351: ConvergenceWarning: Number of distinct clusters (7) found smaller than n_clusters (10). Possibly due to duplicate points in X.\n",
      "  return fit_method(estimator, *args, **kwargs)\n",
      "/usr/local/lib/python3.9/site-packages/sklearn/base.py:1351: ConvergenceWarning: Number of distinct clusters (5) found smaller than n_clusters (10). Possibly due to duplicate points in X.\n",
      "  return fit_method(estimator, *args, **kwargs)\n",
      "/usr/local/lib/python3.9/site-packages/sklearn/base.py:1351: ConvergenceWarning: Number of distinct clusters (7) found smaller than n_clusters (10). Possibly due to duplicate points in X.\n",
      "  return fit_method(estimator, *args, **kwargs)\n",
      "/usr/local/lib/python3.9/site-packages/sklearn/base.py:1351: ConvergenceWarning: Number of distinct clusters (5) found smaller than n_clusters (10). Possibly due to duplicate points in X.\n",
      "  return fit_method(estimator, *args, **kwargs)\n",
      "/usr/local/lib/python3.9/site-packages/sklearn/base.py:1351: ConvergenceWarning: Number of distinct clusters (9) found smaller than n_clusters (10). Possibly due to duplicate points in X.\n",
      "  return fit_method(estimator, *args, **kwargs)\n",
      "/usr/local/lib/python3.9/site-packages/sklearn/base.py:1351: ConvergenceWarning: Number of distinct clusters (6) found smaller than n_clusters (10). Possibly due to duplicate points in X.\n",
      "  return fit_method(estimator, *args, **kwargs)\n"
     ]
    },
    {
     "name": "stdout",
     "output_type": "stream",
     "text": [
      "None\n"
     ]
    },
    {
     "data": {
      "image/png": "[encoded data removed]",
      "text/plain": [
       "<Figure size 640x480 with 1 Axes>"
      ]
     },
     "metadata": {},
     "output_type": "display_data"
    }
   ],
   "source": [
    "\n",
    "# Load the pre-trained SVM model from the .sav file\n",
    "model = joblib.load('color_svm.sav')\n",
    "\n",
    "# Define a function to make predictions using the pre-trained model\n",
    "def predict(path, img):\n",
    "    split_tup = os.path.splitext(img)\n",
    "    if len(split_tup) > 1 and split_tup[len(split_tup)-1] == \".png\":\n",
    "        color_mask, img = split_image_and_predict(model, os.path.join(path, img), 32)\n",
    "        plt.imshow(\"mask\", color_mask)\n",
    "        plt.imshow(\"orig\", img)\n",
    "    else:\n",
    "        print(\"The image file is not PNG file\")\n",
    "\n",
    "\n",
    "print(predict(\"./simple\", \"IMG_9974.png\"))"
   ]
  }
 ],
 "metadata": {
  "kernelspec": {
   "display_name": "Python 3 (ipykernel)",
   "language": "python",
   "name": "python3"
  },
  "language_info": {
   "codemirror_mode": {
    "name": "ipython",
    "version": 3
   },
   "file_extension": ".py",
   "mimetype": "text/x-python",
   "name": "python",
   "nbconvert_exporter": "python",
   "pygments_lexer": "ipython3",
   "version": "3.9.16"
  }
 },
 "nbformat": 4,
 "nbformat_minor": 4
}
