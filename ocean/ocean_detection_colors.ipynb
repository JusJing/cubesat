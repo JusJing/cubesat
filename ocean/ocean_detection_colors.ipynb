{
 "cells": [
  {
   "cell_type": "code",
   "execution_count": 1,
   "id": "fbeddff0-e4e1-4078-a2da-9fb5de9f3a2d",
   "metadata": {
    "ExecuteTime": {
     "end_time": "2024-01-20T23:03:57.963336Z",
     "start_time": "2024-01-20T23:03:56.894648Z"
    }
   },
   "outputs": [
    {
     "name": "stderr",
     "output_type": "stream",
     "text": [
      "/var/folders/jn/jszhw2j95nn6slg9qsgwfv4h0000gq/T/ipykernel_48433/1216545663.py:2: DeprecationWarning: \n",
      "Pyarrow will become a required dependency of pandas in the next major release of pandas (pandas 3.0),\n",
      "(to allow more performant data types, such as the Arrow string type, and better interoperability with other libraries)\n",
      "but was not found to be installed on your system.\n",
      "If this would cause problems for you,\n",
      "please provide us feedback at https://github.com/pandas-dev/pandas/issues/54466\n",
      "        \n",
      "  import pandas as pd\n"
     ]
    }
   ],
   "source": [
    "import numpy\n",
    "import pandas as pd\n",
    "import matplotlib.pyplot as plt\n",
    "%matplotlib inline\n",
    "import cv2\n",
    "import os\n",
    "from sklearn.cluster import KMeans\n",
    "from collections import Counter\n",
    "from skimage.color import rgb2lab, deltaE_cie76\n",
    "import colorsys\n",
    "import json\n",
    "from json import JSONEncoder\n",
    "#from rembg import remove\n",
    "import pickle\n",
    "\n",
    "import warnings\n",
    "warnings.filterwarnings(\"ignore\")"
   ]
  },
  {
   "cell_type": "code",
   "execution_count": 2,
   "id": "675e42d0-e31c-40b9-a995-316422581dc0",
   "metadata": {},
   "outputs": [],
   "source": [
    "DATADIR = 'dataset'\n",
    "CATEGORIES = ['ocean','land']"
   ]
  },
  {
   "cell_type": "code",
   "execution_count": 3,
   "id": "2a3f75ad-0e57-42d7-8a48-2cb8a4208886",
   "metadata": {},
   "outputs": [
    {
     "name": "stdout",
     "output_type": "stream",
     "text": [
      "IMG_9974_27_93.png\n"
     ]
    },
    {
     "data": {
      "image/png": "[encoded data removed]",
      "text/plain": [
       "<Figure size 640x480 with 1 Axes>"
      ]
     },
     "metadata": {},
     "output_type": "display_data"
    },
    {
     "name": "stdout",
     "output_type": "stream",
     "text": [
      "IMG_9974_12_28.png\n"
     ]
    },
    {
     "data": {
      "image/png": "[encoded data removed]",
      "text/plain": [
       "<Figure size 640x480 with 1 Axes>"
      ]
     },
     "metadata": {},
     "output_type": "display_data"
    }
   ],
   "source": [
    "for category in CATEGORIES:\n",
    "    path=os.path.join(DATADIR, category)\n",
    "    for img in os.listdir(path):\n",
    "        split_tup = os.path.splitext(img)\n",
    "        if len(split_tup) > 1 and split_tup[len(split_tup)-1] == \".png\":\n",
    "            img_array=cv2.imread(os.path.join(path,img), cv2.IMREAD_UNCHANGED)\n",
    "            print(img)\n",
    "            plt.imshow(img_array)\n",
    "            plt.show()\n",
    "            break\n",
    "    #break"
   ]
  },
  {
   "cell_type": "code",
   "execution_count": 4,
   "id": "af5444a8-fb0e-4300-b3cb-a50e03375241",
   "metadata": {},
   "outputs": [],
   "source": [
    "def get_image(image_path):\n",
    "    image = cv2.imread(image_path)\n",
    "    #image = remove(image)\n",
    "    image = cv2.cvtColor(image)\n",
    "    return image\n",
    "def RGB2HEX(color):\n",
    "    return \"#{:02x}{:02x}{:02x}\".format(int(color[0]), int(color[1]), int(color[2]))\n",
    "\n",
    "class NumpyArrayEncoder(JSONEncoder):\n",
    "    def default(self, obj):\n",
    "        if isinstance(obj, numpy.ndarray):\n",
    "            return obj.tolist()\n",
    "        return JSONEncoder.default(self, obj)\n",
    "\n",
    "def extract_features(path, img, split_tup):\n",
    "    image_path = os.path.join(path, img)\n",
    "    json_file = split_tup[0] + \".json\"\n",
    "    json_path = os.path.join(path, json_file)\n",
    "    if os.path.exists(json_path):\n",
    "        # Opening JSON file\n",
    "        f = open(json_path)\n",
    "        json_details = json.load(f)\n",
    "        return json_details[\"rgb_colors\"]\n",
    "        # has_high_hsl = False\n",
    "        # for hsl in hsl_color_values:\n",
    "        #     if hsl[1] > 0.5:\n",
    "        #         has_high_hsl = True\n",
    "                \n",
    "        # if has_high_hsl and split_tup[0].startswith(\"plastic\"):\n",
    "        #     return hsl_color_values\n",
    "        # else:\n",
    "        #     if not has_high_hsl:\n",
    "        #         return hsl_color_values\n",
    "        #     else:\n",
    "        #         return []\n",
    "    else:\n",
    "        image = get_image(image_path)\n",
    "        number_of_colors = 10\n",
    "        modified_image = image.reshape(image.shape[0]*image.shape[1], 3)\n",
    "        #nobg_image = remove(modified_image)\n",
    "        clf = KMeans(n_clusters = number_of_colors)\n",
    "        labels = clf.fit_predict(modified_image)\n",
    "        \n",
    "        counts = Counter(labels)\n",
    "\n",
    "        center_colors = clf.cluster_centers_\n",
    "\n",
    "        # We get ordered colors by iterating through the keys\n",
    "        ordered_colors = [center_colors[i] for i in counts.keys()]\n",
    "        hex_colors = [RGB2HEX(ordered_colors[i]) for i in counts.keys()]\n",
    "        rgb_colors = [ordered_colors[i] for i in counts.keys()]\n",
    "        hsl_color_values = []\n",
    "\n",
    "        for i in range(len(rgb_colors)):\n",
    "            rgb_color = rgb_colors[i]\n",
    "            hsl_color_val = colorsys.rgb_to_hsv(rgb_color[0],rgb_color[1],rgb_color[2])\n",
    "            hsl_color_values.append(hsl_color_val)\n",
    "\n",
    "        \n",
    "        json_details = {\"rgb_colors\": rgb_colors,\n",
    "                        \"hex_colors\": hex_colors,\n",
    "                        \"hsl_color_values\": hsl_color_values}\n",
    "        # Serializing json\n",
    "        json_object = json.dumps(json_details, indent=4, cls=NumpyArrayEncoder)\n",
    " \n",
    "        # Writing to sample.json\n",
    "        with open(json_path, \"w\") as outfile:\n",
    "            outfile.write(json_object)\n",
    "\n",
    "        return rgb_colors"
   ]
  },
  {
   "cell_type": "code",
   "execution_count": 5,
   "id": "1e54f63c-fcf7-4e1a-8fee-1ffcf77ba602",
   "metadata": {},
   "outputs": [
    {
     "name": "stdout",
     "output_type": "stream",
     "text": [
      "ocean 0 0\n",
      "land 0 1\n"
     ]
    },
    {
     "data": {
      "image/png": "[encoded data removed]",
      "text/plain": [
       "<Figure size 1200x1200 with 8 Axes>"
      ]
     },
     "metadata": {},
     "output_type": "display_data"
    }
   ],
   "source": [
    "cols=2\n",
    "rows=4\n",
    "col_index=0\n",
    "row_index=0\n",
    "f, axarr = plt.subplots(rows,cols,figsize=(12, 12))\n",
    "for category in CATEGORIES:\n",
    "    path=os.path.join(DATADIR, category)\n",
    "    for img in os.listdir(path):\n",
    "        split_tup = os.path.splitext(img)\n",
    "        if len(split_tup) > 1 and split_tup[len(split_tup)-1] == \".png\":\n",
    "            img_array=cv2.imread(os.path.join(path,img),cv2.COLOR_BGR2RGB)\n",
    "            axarr[row_index,col_index].imshow(img_array)\n",
    "            axarr[row_index,col_index].set_title(category+str(row_index)+str(col_index))\n",
    "            print(category,row_index,col_index)\n",
    "            break\n",
    "    col_index=col_index+1\n",
    "    if(col_index==cols):\n",
    "        row_index=row_index+1\n",
    "        col_index=0"
   ]
  },
  {
   "cell_type": "code",
   "execution_count": 6,
   "id": "287206c6-59b7-4635-9ddc-3f2f7ddc4ece",
   "metadata": {},
   "outputs": [],
   "source": [
    "training_data=[]\n",
    "def create_training_data():\n",
    "    for category in CATEGORIES:\n",
    "        path=os.path.join(DATADIR, category)\n",
    "        class_num=CATEGORIES.index(category)\n",
    "        for img in os.listdir(path):\n",
    "            split_tup = os.path.splitext(img)\n",
    "            if len(split_tup) > 1 and split_tup[len(split_tup)-1] == \".png\":\n",
    "                try:\n",
    "                    features = extract_features(path, img, split_tup)\n",
    "                    if len(features) > 0:\n",
    "                        training_data.append([features,class_num])\n",
    "                except Exception as e:\n",
    "                    print(e)\n",
    "                    pass\n",
    "                \n",
    "create_training_data()  "
   ]
  },
  {
   "cell_type": "code",
   "execution_count": 7,
   "id": "cab9aa5b-3601-4686-a36b-464aee4341e2",
   "metadata": {},
   "outputs": [],
   "source": [
    "lenofimage = len(training_data)"
   ]
  },
  {
   "cell_type": "code",
   "execution_count": 8,
   "id": "92f6458d-68c0-40a3-8350-30d982d12c43",
   "metadata": {},
   "outputs": [
    {
     "data": {
      "text/plain": [
       "True"
      ]
     },
     "execution_count": 8,
     "metadata": {},
     "output_type": "execute_result"
    }
   ],
   "source": [
    "X=[]\n",
    "y=[]\n",
    "\n",
    "for categories, label in training_data:\n",
    "    X.append(categories)\n",
    "    y.append(label)\n",
    "X= numpy.array(X).reshape(lenofimage,-1)\n",
    "\n",
    "# numpy.isnan(X.any()) #and gets False\n",
    "\n",
    "#index = 0\n",
    "#for i in X[:,0]:\n",
    "#    if not numpy.isfinite(i):\n",
    "#        print(index, i)\n",
    "#    index +=1\n",
    "\n",
    "numpy.isfinite(X.all()) #and gets True\n",
    "\n",
    "\n",
    "# X = tf.keras.utils.normalize(X, axis = 1)"
   ]
  },
  {
   "cell_type": "code",
   "execution_count": 9,
   "id": "0a8ef2e5-3001-4752-9d92-c0f432a8ee19",
   "metadata": {},
   "outputs": [
    {
     "data": {
      "text/plain": [
       "(2940, 30)"
      ]
     },
     "execution_count": 9,
     "metadata": {},
     "output_type": "execute_result"
    }
   ],
   "source": [
    "X.shape"
   ]
  },
  {
   "cell_type": "code",
   "execution_count": 10,
   "id": "a94d8f73-6d90-4bfe-93b9-ce7a05df326c",
   "metadata": {},
   "outputs": [],
   "source": [
    "X=X/255"
   ]
  },
  {
   "cell_type": "code",
   "execution_count": 11,
   "id": "5709121d-1e73-4753-bc64-c2c2fc5415fe",
   "metadata": {},
   "outputs": [
    {
     "data": {
      "text/plain": [
       "array([0.50224291, 0.52563126, 0.61125688, 0.53211186, 0.55210543,\n",
       "       0.63612986, 0.55857843, 0.57622549, 0.65710784, 0.49136476,\n",
       "       0.51564732, 0.60340216, 0.43909685, 0.46999406, 0.55769459,\n",
       "       0.4746621 , 0.50001904, 0.58652199, 0.46401833, 0.49314999,\n",
       "       0.58008658, 0.48132303, 0.50865518, 0.59481085, 0.45228758,\n",
       "       0.48221289, 0.57021475, 0.51492503, 0.53716263, 0.62399077])"
      ]
     },
     "execution_count": 11,
     "metadata": {},
     "output_type": "execute_result"
    }
   ],
   "source": [
    "X[1]"
   ]
  },
  {
   "cell_type": "code",
   "execution_count": 12,
   "id": "acd506b5-7495-4d8d-9b1e-d79f6cfd068f",
   "metadata": {},
   "outputs": [],
   "source": [
    "y=numpy.array(y)"
   ]
  },
  {
   "cell_type": "code",
   "execution_count": 13,
   "id": "9521dcef-a661-47d4-aba8-6f28296a9d30",
   "metadata": {},
   "outputs": [
    {
     "data": {
      "text/plain": [
       "(2940,)"
      ]
     },
     "execution_count": 13,
     "metadata": {},
     "output_type": "execute_result"
    }
   ],
   "source": [
    "y.shape"
   ]
  },
  {
   "cell_type": "code",
   "execution_count": 14,
   "id": "f43523b7-3692-4143-9397-4d6088f068d1",
   "metadata": {},
   "outputs": [],
   "source": [
    "from sklearn.model_selection import train_test_split\n",
    "X_train, X_test, y_train, y_test = train_test_split(X,y)"
   ]
  },
  {
   "cell_type": "code",
   "execution_count": 15,
   "id": "697d302d-63d9-40b4-b93c-56e31ea7b494",
   "metadata": {},
   "outputs": [],
   "source": [
    "from sklearn.svm import SVC\n",
    "svc = SVC(kernel='linear',gamma='auto')\n",
    "svc.fit(X_train, y_train)\n",
    "\n",
    "pickle.dump(svc, open(\"color_svm.sav\", 'wb'))"
   ]
  },
  {
   "cell_type": "code",
   "execution_count": 16,
   "id": "a37aef44-ef17-4ad7-92d4-d1da0915269d",
   "metadata": {},
   "outputs": [],
   "source": [
    "y2 = svc.predict(X_test)"
   ]
  },
  {
   "cell_type": "code",
   "execution_count": 17,
   "id": "77f820c6-e2a3-47f0-b376-10c7f3ab72ec",
   "metadata": {},
   "outputs": [
    {
     "name": "stdout",
     "output_type": "stream",
     "text": [
      "Accuracy on unknown data is 0.9945578231292517\n"
     ]
    }
   ],
   "source": [
    "from sklearn.metrics import accuracy_score\n",
    "print(\"Accuracy on unknown data is\",accuracy_score(y_test,y2))"
   ]
  },
  {
   "cell_type": "code",
   "execution_count": 18,
   "id": "90cf5876-f2d9-4bfa-b11d-a0a2c58a9b82",
   "metadata": {},
   "outputs": [
    {
     "name": "stdout",
     "output_type": "stream",
     "text": [
      "Accuracy on unknown data is               precision    recall  f1-score   support\n",
      "\n",
      "           0       0.99      1.00      0.99       371\n",
      "           1       1.00      0.99      0.99       364\n",
      "\n",
      "    accuracy                           0.99       735\n",
      "   macro avg       0.99      0.99      0.99       735\n",
      "weighted avg       0.99      0.99      0.99       735\n",
      "\n"
     ]
    }
   ],
   "source": [
    "from sklearn.metrics import classification_report\n",
    "print(\"Accuracy on unknown data is\",classification_report(y_test,y2))"
   ]
  },
  {
   "cell_type": "code",
   "execution_count": 19,
   "id": "eb438a64-b932-48ab-859f-d4b9ee646123",
   "metadata": {
    "tags": []
   },
   "outputs": [
    {
     "data": {
      "text/html": [
       "<div>\n",
       "<style scoped>\n",
       "    .dataframe tbody tr th:only-of-type {\n",
       "        vertical-align: middle;\n",
       "    }\n",
       "\n",
       "    .dataframe tbody tr th {\n",
       "        vertical-align: top;\n",
       "    }\n",
       "\n",
       "    .dataframe thead th {\n",
       "        text-align: right;\n",
       "    }\n",
       "</style>\n",
       "<table border=\"1\" class=\"dataframe\">\n",
       "  <thead>\n",
       "    <tr style=\"text-align: right;\">\n",
       "      <th></th>\n",
       "      <th>original</th>\n",
       "      <th>predicted</th>\n",
       "    </tr>\n",
       "  </thead>\n",
       "  <tbody>\n",
       "    <tr>\n",
       "      <th>0</th>\n",
       "      <td>1</td>\n",
       "      <td>1</td>\n",
       "    </tr>\n",
       "    <tr>\n",
       "      <th>1</th>\n",
       "      <td>1</td>\n",
       "      <td>1</td>\n",
       "    </tr>\n",
       "    <tr>\n",
       "      <th>2</th>\n",
       "      <td>0</td>\n",
       "      <td>0</td>\n",
       "    </tr>\n",
       "    <tr>\n",
       "      <th>3</th>\n",
       "      <td>0</td>\n",
       "      <td>0</td>\n",
       "    </tr>\n",
       "    <tr>\n",
       "      <th>4</th>\n",
       "      <td>1</td>\n",
       "      <td>1</td>\n",
       "    </tr>\n",
       "    <tr>\n",
       "      <th>...</th>\n",
       "      <td>...</td>\n",
       "      <td>...</td>\n",
       "    </tr>\n",
       "    <tr>\n",
       "      <th>730</th>\n",
       "      <td>0</td>\n",
       "      <td>0</td>\n",
       "    </tr>\n",
       "    <tr>\n",
       "      <th>731</th>\n",
       "      <td>0</td>\n",
       "      <td>0</td>\n",
       "    </tr>\n",
       "    <tr>\n",
       "      <th>732</th>\n",
       "      <td>1</td>\n",
       "      <td>1</td>\n",
       "    </tr>\n",
       "    <tr>\n",
       "      <th>733</th>\n",
       "      <td>1</td>\n",
       "      <td>1</td>\n",
       "    </tr>\n",
       "    <tr>\n",
       "      <th>734</th>\n",
       "      <td>1</td>\n",
       "      <td>1</td>\n",
       "    </tr>\n",
       "  </tbody>\n",
       "</table>\n",
       "<p>735 rows × 2 columns</p>\n",
       "</div>"
      ],
      "text/plain": [
       "     original  predicted\n",
       "0           1          1\n",
       "1           1          1\n",
       "2           0          0\n",
       "3           0          0\n",
       "4           1          1\n",
       "..        ...        ...\n",
       "730         0          0\n",
       "731         0          0\n",
       "732         1          1\n",
       "733         1          1\n",
       "734         1          1\n",
       "\n",
       "[735 rows x 2 columns]"
      ]
     },
     "execution_count": 19,
     "metadata": {},
     "output_type": "execute_result"
    }
   ],
   "source": [
    "result = pd.DataFrame({'original' : y_test,'predicted' : y2})\n",
    "result"
   ]
  }
 ],
 "metadata": {
  "kernelspec": {
   "display_name": "Python 3 (ipykernel)",
   "language": "python",
   "name": "python3"
  },
  "language_info": {
   "codemirror_mode": {
    "name": "ipython",
    "version": 3
   },
   "file_extension": ".py",
   "mimetype": "text/x-python",
   "name": "python",
   "nbconvert_exporter": "python",
   "pygments_lexer": "ipython3",
   "version": "3.9.16"
  }
 },
 "nbformat": 4,
 "nbformat_minor": 5
}
